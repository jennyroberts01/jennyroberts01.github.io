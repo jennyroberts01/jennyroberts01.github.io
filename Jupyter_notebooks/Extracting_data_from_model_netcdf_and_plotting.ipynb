{
 "cells": [
  {
   "cell_type": "markdown",
   "metadata": {},
   "source": [
    "This is a simple script that demonstrates how to open netcdf files (a typical format of file used for storing large amounts of data, and often used to display output from 3D Earth system models). This example uses a version of the marine reservoir ages output from Butzin et al. 2017.  "
   ]
  },
  {
   "cell_type": "code",
   "execution_count": 13,
   "metadata": {},
   "outputs": [],
   "source": [
    "# load required packages\n",
    "library(ncdf4)\n",
    "library(maps)"
   ]
  },
  {
   "cell_type": "code",
   "execution_count": 14,
   "metadata": {},
   "outputs": [],
   "source": [
    "#Open netcdf file \n",
    "nc <- nc_open( \"mra14_intcal13_pd_21kcalBP.nc\")\n"
   ]
  },
  {
   "cell_type": "code",
   "execution_count": 15,
   "metadata": {},
   "outputs": [
    {
     "data": {
      "text/html": [
       "'MRA'"
      ],
      "text/latex": [
       "'MRA'"
      ],
      "text/markdown": [
       "'MRA'"
      ],
      "text/plain": [
       "[1] \"MRA\""
      ]
     },
     "metadata": {},
     "output_type": "display_data"
    }
   ],
   "source": [
    "#list names of variables in netcdf file\n",
    "names(nc$var)"
   ]
  },
  {
   "cell_type": "code",
   "execution_count": 16,
   "metadata": {},
   "outputs": [
    {
     "data": {
      "text/html": [
       "<ol class=list-inline>\n",
       "\t<li>'lon'</li>\n",
       "\t<li>'lat'</li>\n",
       "\t<li>'depth'</li>\n",
       "\t<li>'time'</li>\n",
       "</ol>\n"
      ],
      "text/latex": [
       "\\begin{enumerate*}\n",
       "\\item 'lon'\n",
       "\\item 'lat'\n",
       "\\item 'depth'\n",
       "\\item 'time'\n",
       "\\end{enumerate*}\n"
      ],
      "text/markdown": [
       "1. 'lon'\n",
       "2. 'lat'\n",
       "3. 'depth'\n",
       "4. 'time'\n",
       "\n",
       "\n"
      ],
      "text/plain": [
       "[1] \"lon\"   \"lat\"   \"depth\" \"time\" "
      ]
     },
     "metadata": {},
     "output_type": "display_data"
    }
   ],
   "source": [
    "#list names of dimensions in netcdf file\n",
    "names(nc$dim)"
   ]
  },
  {
   "cell_type": "markdown",
   "metadata": {},
   "source": [
    "Lets say that you want to extract the marine reservoir ages at a specific location for which you have the longitude, latitude and depth (e.g. -55oN, -70oE, 3000m). The following is the code for how to extract such data. "
   ]
  },
  {
   "cell_type": "code",
   "execution_count": 17,
   "metadata": {},
   "outputs": [
    {
     "data": {
      "text/html": [
       "<ol class=list-inline>\n",
       "\t<li>144</li>\n",
       "\t<li>72</li>\n",
       "\t<li>22</li>\n",
       "</ol>\n"
      ],
      "text/latex": [
       "\\begin{enumerate*}\n",
       "\\item 144\n",
       "\\item 72\n",
       "\\item 22\n",
       "\\end{enumerate*}\n"
      ],
      "text/markdown": [
       "1. 144\n",
       "2. 72\n",
       "3. 22\n",
       "\n",
       "\n"
      ],
      "text/plain": [
       "[1] 144  72  22"
      ]
     },
     "metadata": {},
     "output_type": "display_data"
    }
   ],
   "source": [
    "#Lets have a look at the matrix containing the variable of interest. In this case marine reservoir ages (\"MRA)\n",
    "nc_var <- ncvar_get( nc, varid=\"MRA\" )\n",
    "#list how many dimensions the matrix has\n",
    "dim(nc_var)"
   ]
  },
  {
   "cell_type": "code",
   "execution_count": 19,
   "metadata": {},
   "outputs": [
    {
     "data": {
      "text/html": [
       "144"
      ],
      "text/latex": [
       "144"
      ],
      "text/markdown": [
       "144"
      ],
      "text/plain": [
       "[1] 144"
      ]
     },
     "metadata": {},
     "output_type": "display_data"
    },
    {
     "data": {
      "text/html": [
       "72"
      ],
      "text/latex": [
       "72"
      ],
      "text/markdown": [
       "72"
      ],
      "text/plain": [
       "[1] 72"
      ]
     },
     "metadata": {},
     "output_type": "display_data"
    },
    {
     "data": {
      "text/html": [
       "22"
      ],
      "text/latex": [
       "22"
      ],
      "text/markdown": [
       "22"
      ],
      "text/plain": [
       "[1] 22"
      ]
     },
     "metadata": {},
     "output_type": "display_data"
    }
   ],
   "source": [
    "#Note how this compares to the number of entries in each dimension\n",
    "length(nc$dim$lon$vals)\n",
    "length(nc$dim$lat$vals)\n",
    "length(nc$dim$depth$vals)"
   ]
  },
  {
   "cell_type": "code",
   "execution_count": 41,
   "metadata": {},
   "outputs": [
    {
     "data": {
      "text/html": [
       "<table>\n",
       "<thead><tr><th scope=col>lat_index</th><th scope=col>lon_index</th><th scope=col>depth_index</th></tr></thead>\n",
       "<tbody>\n",
       "\t<tr><td>59 </td><td>119</td><td>15 </td></tr>\n",
       "</tbody>\n",
       "</table>\n"
      ],
      "text/latex": [
       "\\begin{tabular}{r|lll}\n",
       " lat\\_index & lon\\_index & depth\\_index\\\\\n",
       "\\hline\n",
       "\t 59  & 119 & 15 \\\\\n",
       "\\end{tabular}\n"
      ],
      "text/markdown": [
       "\n",
       "lat_index | lon_index | depth_index | \n",
       "|---|\n",
       "| 59  | 119 | 15  | \n",
       "\n",
       "\n"
      ],
      "text/plain": [
       "  lat_index lon_index depth_index\n",
       "1 59        119       15         "
      ]
     },
     "metadata": {},
     "output_type": "display_data"
    },
    {
     "data": {
      "text/html": [
       "<table>\n",
       "<tbody>\n",
       "\t<tr><th scope=row>MRA</th><td>1475.878</td></tr>\n",
       "</tbody>\n",
       "</table>\n"
      ],
      "text/latex": [
       "\\begin{tabular}{r|l}\n",
       "\tMRA & 1475.878\\\\\n",
       "\\end{tabular}\n"
      ],
      "text/markdown": [
       "\n",
       "| MRA | 1475.878 | \n",
       "\n",
       "\n"
      ],
      "text/plain": [
       "    [,1]    \n",
       "MRA 1475.878"
      ]
     },
     "metadata": {},
     "output_type": "display_data"
    }
   ],
   "source": [
    "#The matrix containing our variable is made up of the following [lon,lat,depth]\n",
    "#Lets try to extract the data for our core site\n",
    "#First define the variables\n",
    "input_lat = -55.1\n",
    "input_lon = -70\n",
    "input_depth = 1250\n",
    "\n",
    "#Now find the location in the matrix that corresponds to our data. \n",
    "#It is likely that your core is not at the exact location as each data point in the cdf file, \n",
    "#so you will have to find the nearest grid point\n",
    "#Find correct colours for Interpolated_masterfile\n",
    "nc_lat<-nc$dim$lat$vals\n",
    "nc_lon<-nc$dim$lon$vals\n",
    "nc_depth<-nc$dim$depth$vals\n",
    "\n",
    "#This is written in a loop to make it easier when you have more than one site\n",
    "index_vals=NULL\n",
    "for(i in 1:length(input_lat)){\n",
    "    lat_index<-which(abs(nc_lat-input_lat[i])==min(abs(nc_lat-input_lat[i])))\n",
    "    #longitudes may need correcting from -180 to 180 ---> 0 to 360\n",
    "    input_lon2<-ifelse(input_lon[i]< min(nc$dim$lon$vals), input_lon[i]+360, input_lon[i])\n",
    "    lon_index<-which(abs(nc_lon-input_lon2)==min(abs(nc_lon-input_lon2)))\n",
    "    depth_index<-which(abs(nc_depth-input_depth[i])==min(abs(nc_depth-input_depth[i])))\n",
    "    a<-data.frame(lat_index=lat_index,lon_index=lon_index,depth_index=depth_index)\n",
    "    index_vals<-rbind(index_vals,a)\n",
    "}\n",
    "index_vals\n",
    "#Now use these index values to find the RMA at the core site by using the variable matrix\n",
    "MRA_output=NULL\n",
    "for(i in 1:nrow(index_vals)){\n",
    "    MRA<-nc_var[index_vals$lon_index[i],index_vals$lat_index[i],index_vals$depth_index[i]]\n",
    "    MRA_output<-rbind(MRA_output,MRA)\n",
    "}\n",
    "MRA_output"
   ]
  },
  {
   "cell_type": "markdown",
   "metadata": {},
   "source": [
    "The same principle can be used to extract marine reservoir ages from multiple sites. You can import in an excel sheet containing all of your longitudes, latitudes and depths, and output the data as a csv file."
   ]
  },
  {
   "cell_type": "code",
   "execution_count": 44,
   "metadata": {},
   "outputs": [
    {
     "data": {
      "text/html": [
       "<table>\n",
       "<thead><tr><th scope=col>Cores</th><th scope=col>Lat..oN.</th><th scope=col>Long..oE.</th><th scope=col>WD..m.</th><th scope=col>Recovery</th><th scope=col>Max.age..based.on.MS.</th><th scope=col>X</th></tr></thead>\n",
       "<tbody>\n",
       "\t<tr><td>PS97/139 </td><td>-52.44267</td><td>-52.44267</td><td> 640.0   </td><td>4.54     </td><td>30?      </td><td>         </td></tr>\n",
       "\t<tr><td>PS97/138 </td><td>-52.61633</td><td>-52.61633</td><td> 839.8   </td><td>2.71     </td><td>20       </td><td>         </td></tr>\n",
       "\t<tr><td>PS97/137 </td><td>-52.65950</td><td>-52.65950</td><td>1027.6   </td><td>8.50     </td><td>25       </td><td>         </td></tr>\n",
       "\t<tr><td>PS97/024 </td><td>-54.58800</td><td>-54.58800</td><td>1278.0   </td><td>1.60     </td><td>-        </td><td>         </td></tr>\n",
       "\t<tr><td>PS97/023 </td><td>-54.68100</td><td>-54.68100</td><td>1597.8   </td><td>1.83     </td><td>-        </td><td>         </td></tr>\n",
       "\t<tr><td>PS97/026 </td><td>-54.68067</td><td>-54.68067</td><td>1604.3   </td><td>6.08     </td><td>30       </td><td>         </td></tr>\n",
       "</tbody>\n",
       "</table>\n"
      ],
      "text/latex": [
       "\\begin{tabular}{r|lllllll}\n",
       " Cores & Lat..oN. & Long..oE. & WD..m. & Recovery & Max.age..based.on.MS. & X\\\\\n",
       "\\hline\n",
       "\t PS97/139  & -52.44267 & -52.44267 &  640.0    & 4.54      & 30?       &          \\\\\n",
       "\t PS97/138  & -52.61633 & -52.61633 &  839.8    & 2.71      & 20        &          \\\\\n",
       "\t PS97/137  & -52.65950 & -52.65950 & 1027.6    & 8.50      & 25        &          \\\\\n",
       "\t PS97/024  & -54.58800 & -54.58800 & 1278.0    & 1.60      & -         &          \\\\\n",
       "\t PS97/023  & -54.68100 & -54.68100 & 1597.8    & 1.83      & -         &          \\\\\n",
       "\t PS97/026  & -54.68067 & -54.68067 & 1604.3    & 6.08      & 30        &          \\\\\n",
       "\\end{tabular}\n"
      ],
      "text/markdown": [
       "\n",
       "Cores | Lat..oN. | Long..oE. | WD..m. | Recovery | Max.age..based.on.MS. | X | \n",
       "|---|---|---|---|---|---|\n",
       "| PS97/139  | -52.44267 | -52.44267 |  640.0    | 4.54      | 30?       |           | \n",
       "| PS97/138  | -52.61633 | -52.61633 |  839.8    | 2.71      | 20        |           | \n",
       "| PS97/137  | -52.65950 | -52.65950 | 1027.6    | 8.50      | 25        |           | \n",
       "| PS97/024  | -54.58800 | -54.58800 | 1278.0    | 1.60      | -         |           | \n",
       "| PS97/023  | -54.68100 | -54.68100 | 1597.8    | 1.83      | -         |           | \n",
       "| PS97/026  | -54.68067 | -54.68067 | 1604.3    | 6.08      | 30        |           | \n",
       "\n",
       "\n"
      ],
      "text/plain": [
       "  Cores    Lat..oN.  Long..oE. WD..m. Recovery Max.age..based.on.MS. X\n",
       "1 PS97/139 -52.44267 -52.44267  640.0 4.54     30?                    \n",
       "2 PS97/138 -52.61633 -52.61633  839.8 2.71     20                     \n",
       "3 PS97/137 -52.65950 -52.65950 1027.6 8.50     25                     \n",
       "4 PS97/024 -54.58800 -54.58800 1278.0 1.60     -                      \n",
       "5 PS97/023 -54.68100 -54.68100 1597.8 1.83     -                      \n",
       "6 PS97/026 -54.68067 -54.68067 1604.3 6.08     30                     "
      ]
     },
     "metadata": {},
     "output_type": "display_data"
    }
   ],
   "source": [
    "#This package lets you read in excel docs\n",
    "require(gdata)\n",
    "input_cores<- read.xls(\"All_chilean_margin_cores.xlsx\", sheet=1, header=TRUE)\n",
    "#See the top few lines of your excel file\n",
    "head(input_cores)\n"
   ]
  },
  {
   "cell_type": "code",
   "execution_count": 96,
   "metadata": {},
   "outputs": [
    {
     "data": {
      "text/html": [
       "<table>\n",
       "<thead><tr><th scope=col>Cores</th><th scope=col>Lat..oN.</th><th scope=col>Long..oE.</th><th scope=col>WD..m.</th><th scope=col>Recovery</th><th scope=col>Max.age..based.on.MS.</th><th scope=col>X</th><th scope=col>MRA</th></tr></thead>\n",
       "<tbody>\n",
       "\t<tr><td>PS97/139         </td><td>-52.44267        </td><td>-52.44267        </td><td> 640.0           </td><td> 4.54            </td><td>30?              </td><td>                 </td><td>1062.611         </td></tr>\n",
       "\t<tr><td>PS97/138         </td><td>-52.61633        </td><td>-52.61633        </td><td> 839.8           </td><td> 2.71            </td><td>20               </td><td>                 </td><td>1178.181         </td></tr>\n",
       "\t<tr><td>PS97/137         </td><td>-52.65950        </td><td>-52.65950        </td><td>1027.6           </td><td> 8.50            </td><td>25               </td><td>                 </td><td>1310.342         </td></tr>\n",
       "\t<tr><td>PS97/024         </td><td>-54.58800        </td><td>-54.58800        </td><td>1278.0           </td><td> 1.60            </td><td>-                </td><td>                 </td><td>1384.752         </td></tr>\n",
       "\t<tr><td>PS97/023         </td><td>-54.68100        </td><td>-54.68100        </td><td>1597.8           </td><td> 1.83            </td><td>-                </td><td>                 </td><td>1472.770         </td></tr>\n",
       "\t<tr><td>PS97/026         </td><td>-54.68067        </td><td>-54.68067        </td><td>1604.3           </td><td> 6.08            </td><td>30               </td><td>                 </td><td>1472.770         </td></tr>\n",
       "\t<tr><td>PS97/022         </td><td>-54.70050        </td><td>-54.70050        </td><td>1615.9           </td><td> 2.67            </td><td>-                </td><td>                 </td><td>1472.770         </td></tr>\n",
       "\t<tr><td>PS97/025         </td><td>-54.70050        </td><td>-54.70050        </td><td>1620.4           </td><td> 5.43            </td><td>25               </td><td>                 </td><td>1472.770         </td></tr>\n",
       "\t<tr><td>PS97/129         </td><td>-53.32150        </td><td>-53.32150        </td><td>1870.2           </td><td> 7.32            </td><td>25               </td><td>                 </td><td>1522.970         </td></tr>\n",
       "\t<tr><td>PS97/128         </td><td>-53.63433        </td><td>-53.63433        </td><td>2313.4           </td><td>10.69            </td><td>20               </td><td>                 </td><td>1526.670         </td></tr>\n",
       "\t<tr><td>PS97/027                                                 </td><td>-54.38483                                                </td><td>-54.38483                                                </td><td>2341.8                                                   </td><td> 2.01                                                    </td><td>&lt;20                                                   </td><td><span style=white-space:pre-wrap>                 </span></td><td>1563.332                                                 </td></tr>\n",
       "\t<tr><td>PS97/111         </td><td>-54.38467        </td><td>-54.38467        </td><td>2364.0           </td><td> 9.93            </td><td>18               </td><td>missing Holocene?</td><td>1563.332         </td></tr>\n",
       "\t<tr><td>PS97/122         </td><td>-54.09683        </td><td>-54.09683        </td><td>2557.9           </td><td>10.77            </td><td>?                </td><td>                 </td><td>1555.605         </td></tr>\n",
       "\t<tr><td>PS97/112         </td><td>-54.57900        </td><td>-54.57900        </td><td>3866.9           </td><td>14.58            </td><td>-                </td><td>                 </td><td>      NA         </td></tr>\n",
       "\t<tr><td>PS97/114         </td><td>-54.57883        </td><td>-54.57883        </td><td>3869.3           </td><td>22.37            </td><td>-                </td><td>                 </td><td>      NA         </td></tr>\n",
       "</tbody>\n",
       "</table>\n"
      ],
      "text/latex": [
       "\\begin{tabular}{r|llllllll}\n",
       " Cores & Lat..oN. & Long..oE. & WD..m. & Recovery & Max.age..based.on.MS. & X & MRA\\\\\n",
       "\\hline\n",
       "\t PS97/139          & -52.44267         & -52.44267         &  640.0            &  4.54             & 30?               &                   & 1062.611         \\\\\n",
       "\t PS97/138          & -52.61633         & -52.61633         &  839.8            &  2.71             & 20                &                   & 1178.181         \\\\\n",
       "\t PS97/137          & -52.65950         & -52.65950         & 1027.6            &  8.50             & 25                &                   & 1310.342         \\\\\n",
       "\t PS97/024          & -54.58800         & -54.58800         & 1278.0            &  1.60             & -                 &                   & 1384.752         \\\\\n",
       "\t PS97/023          & -54.68100         & -54.68100         & 1597.8            &  1.83             & -                 &                   & 1472.770         \\\\\n",
       "\t PS97/026          & -54.68067         & -54.68067         & 1604.3            &  6.08             & 30                &                   & 1472.770         \\\\\n",
       "\t PS97/022          & -54.70050         & -54.70050         & 1615.9            &  2.67             & -                 &                   & 1472.770         \\\\\n",
       "\t PS97/025          & -54.70050         & -54.70050         & 1620.4            &  5.43             & 25                &                   & 1472.770         \\\\\n",
       "\t PS97/129          & -53.32150         & -53.32150         & 1870.2            &  7.32             & 25                &                   & 1522.970         \\\\\n",
       "\t PS97/128          & -53.63433         & -53.63433         & 2313.4            & 10.69             & 20                &                   & 1526.670         \\\\\n",
       "\t PS97/027          & -54.38483         & -54.38483         & 2341.8            &  2.01             & <20               &                   & 1563.332         \\\\\n",
       "\t PS97/111          & -54.38467         & -54.38467         & 2364.0            &  9.93             & 18                & missing Holocene? & 1563.332         \\\\\n",
       "\t PS97/122          & -54.09683         & -54.09683         & 2557.9            & 10.77             & ?                 &                   & 1555.605         \\\\\n",
       "\t PS97/112          & -54.57900         & -54.57900         & 3866.9            & 14.58             & -                 &                   &       NA         \\\\\n",
       "\t PS97/114          & -54.57883         & -54.57883         & 3869.3            & 22.37             & -                 &                   &       NA         \\\\\n",
       "\\end{tabular}\n"
      ],
      "text/markdown": [
       "\n",
       "Cores | Lat..oN. | Long..oE. | WD..m. | Recovery | Max.age..based.on.MS. | X | MRA | \n",
       "|---|---|---|---|---|---|---|---|---|---|---|---|---|---|---|\n",
       "| PS97/139          | -52.44267         | -52.44267         |  640.0            |  4.54             | 30?               |                   | 1062.611          | \n",
       "| PS97/138          | -52.61633         | -52.61633         |  839.8            |  2.71             | 20                |                   | 1178.181          | \n",
       "| PS97/137          | -52.65950         | -52.65950         | 1027.6            |  8.50             | 25                |                   | 1310.342          | \n",
       "| PS97/024          | -54.58800         | -54.58800         | 1278.0            |  1.60             | -                 |                   | 1384.752          | \n",
       "| PS97/023          | -54.68100         | -54.68100         | 1597.8            |  1.83             | -                 |                   | 1472.770          | \n",
       "| PS97/026          | -54.68067         | -54.68067         | 1604.3            |  6.08             | 30                |                   | 1472.770          | \n",
       "| PS97/022          | -54.70050         | -54.70050         | 1615.9            |  2.67             | -                 |                   | 1472.770          | \n",
       "| PS97/025          | -54.70050         | -54.70050         | 1620.4            |  5.43             | 25                |                   | 1472.770          | \n",
       "| PS97/129          | -53.32150         | -53.32150         | 1870.2            |  7.32             | 25                |                   | 1522.970          | \n",
       "| PS97/128          | -53.63433         | -53.63433         | 2313.4            | 10.69             | 20                |                   | 1526.670          | \n",
       "| PS97/027          | -54.38483         | -54.38483         | 2341.8            |  2.01             | <20               |                   | 1563.332          | \n",
       "| PS97/111          | -54.38467         | -54.38467         | 2364.0            |  9.93             | 18                | missing Holocene? | 1563.332          | \n",
       "| PS97/122          | -54.09683         | -54.09683         | 2557.9            | 10.77             | ?                 |                   | 1555.605          | \n",
       "| PS97/112          | -54.57900         | -54.57900         | 3866.9            | 14.58             | -                 |                   |       NA          | \n",
       "| PS97/114          | -54.57883         | -54.57883         | 3869.3            | 22.37             | -                 |                   |       NA          | \n",
       "\n",
       "\n"
      ],
      "text/plain": [
       "   Cores    Lat..oN.  Long..oE. WD..m. Recovery Max.age..based.on.MS.\n",
       "1  PS97/139 -52.44267 -52.44267  640.0  4.54    30?                  \n",
       "2  PS97/138 -52.61633 -52.61633  839.8  2.71    20                   \n",
       "3  PS97/137 -52.65950 -52.65950 1027.6  8.50    25                   \n",
       "4  PS97/024 -54.58800 -54.58800 1278.0  1.60    -                    \n",
       "5  PS97/023 -54.68100 -54.68100 1597.8  1.83    -                    \n",
       "6  PS97/026 -54.68067 -54.68067 1604.3  6.08    30                   \n",
       "7  PS97/022 -54.70050 -54.70050 1615.9  2.67    -                    \n",
       "8  PS97/025 -54.70050 -54.70050 1620.4  5.43    25                   \n",
       "9  PS97/129 -53.32150 -53.32150 1870.2  7.32    25                   \n",
       "10 PS97/128 -53.63433 -53.63433 2313.4 10.69    20                   \n",
       "11 PS97/027 -54.38483 -54.38483 2341.8  2.01    <20                  \n",
       "12 PS97/111 -54.38467 -54.38467 2364.0  9.93    18                   \n",
       "13 PS97/122 -54.09683 -54.09683 2557.9 10.77    ?                    \n",
       "14 PS97/112 -54.57900 -54.57900 3866.9 14.58    -                    \n",
       "15 PS97/114 -54.57883 -54.57883 3869.3 22.37    -                    \n",
       "   X                 MRA     \n",
       "1                    1062.611\n",
       "2                    1178.181\n",
       "3                    1310.342\n",
       "4                    1384.752\n",
       "5                    1472.770\n",
       "6                    1472.770\n",
       "7                    1472.770\n",
       "8                    1472.770\n",
       "9                    1522.970\n",
       "10                   1526.670\n",
       "11                   1563.332\n",
       "12 missing Holocene? 1563.332\n",
       "13                   1555.605\n",
       "14                         NA\n",
       "15                         NA"
      ]
     },
     "metadata": {},
     "output_type": "display_data"
    }
   ],
   "source": [
    "#Define the input variables\n",
    "input_lat = input_cores$Lat..oN.\n",
    "input_lon = input_cores$Long..oE.\n",
    "input_depth = input_cores$WD..m.\n",
    "\n",
    "#Again apply the function to find the index locations of each site within the variable matrix\n",
    "index_vals=data.frame(lat_index=numeric(0),lon_index=numeric(0),depth_index=numeric(0))\n",
    "for(i in 1:length(input_lat)){\n",
    "    lat_index<-which(abs(nc_lat-input_lat[i])==min(abs(nc_lat-input_lat[i])))\n",
    "    #longitudes may need correcting from -180 to 180 ---> 0 to 360\n",
    "    input_lon2<-ifelse(input_lon[i]< min(nc$dim$lon$vals), input_lon[i]+360, input_lon[i])\n",
    "    lon_index<-which(abs(nc_lon-input_lon2)==min(abs(nc_lon-input_lon2)))\n",
    "    depth_index<-which(abs(nc_depth-input_depth[i])==min(abs(nc_depth-input_depth[i])))\n",
    "    a <- data.frame(lat_index=lat_index,lon_index=lon_index,depth_index=depth_index)\n",
    "    index_vals<-rbind(index_vals,a)\n",
    "}\n",
    "\n",
    "#Now use these index values to find the RMA at the core site by using the variable matrix\n",
    "MRA_output=NULL\n",
    "for(i in 1:nrow(index_vals)){\n",
    "    MRA<-nc_var[index_vals$lon_ind[i],index_vals$lat_ind[i],index_vals$depth_ind[i]]\n",
    "    MRA_output<-rbind(MRA_output,MRA)\n",
    "}\n",
    "\n",
    "#Add the output to the original datafile\n",
    "input_cores[\"MRA\"]<- MRA_output\n",
    "\n",
    "#Display datafile\n",
    "input_cores\n",
    "\n",
    "#Output as csv file\n",
    "write.csv(input_cores,\"input_cores_with MRA.csv\")"
   ]
  }
 ],
 "metadata": {
  "kernelspec": {
   "display_name": "R",
   "language": "R",
   "name": "ir"
  },
  "language_info": {
   "codemirror_mode": "r",
   "file_extension": ".r",
   "mimetype": "text/x-r-source",
   "name": "R",
   "pygments_lexer": "r",
   "version": "3.4.0"
  }
 },
 "nbformat": 4,
 "nbformat_minor": 2
}
